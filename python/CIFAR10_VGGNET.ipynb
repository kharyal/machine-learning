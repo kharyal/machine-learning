{
  "nbformat": 4,
  "nbformat_minor": 0,
  "metadata": {
    "colab": {
      "name": "CIFAR10_VGGNET.ipynb",
      "version": "0.3.2",
      "provenance": [],
      "collapsed_sections": [],
      "include_colab_link": true
    },
    "kernelspec": {
      "name": "python3",
      "display_name": "Python 3"
    },
    "accelerator": "GPU"
  },
  "cells": [
    {
      "cell_type": "markdown",
      "metadata": {
        "id": "view-in-github",
        "colab_type": "text"
      },
      "source": [
        "<a href=\"https://colab.research.google.com/github/kharyal/machine-learning/blob/master/python/CIFAR10_VGGNET.ipynb\" target=\"_parent\"><img src=\"https://colab.research.google.com/assets/colab-badge.svg\" alt=\"Open In Colab\"/></a>"
      ]
    },
    {
      "cell_type": "code",
      "metadata": {
        "id": "tDS-3UAaZTRF",
        "colab_type": "code",
        "colab": {}
      },
      "source": [
        "import torch\n",
        "import torch.nn as nn\n",
        "import torchvision.transforms as transforms\n",
        "import torchvision.datasets as dsets\n",
        "from torch.autograd import Variable\n",
        "import torchvision\n",
        "import torch.nn as nn\n",
        "import torch.nn.functional as F\n",
        "import torch.optim as optim\n",
        "import numpy as np\n",
        "import matplotlib.pyplot as plt"
      ],
      "execution_count": 0,
      "outputs": []
    },
    {
      "cell_type": "code",
      "metadata": {
        "id": "FTuMTHuPZiZe",
        "colab_type": "code",
        "colab": {}
      },
      "source": [
        "batch_size=64\n",
        "mean = [0.4913997551666284, 0.48215855929893703, 0.4465309133731618]\n",
        "std = [0.24703225141799082, 0.24348516474564, 0.26158783926049628]\n",
        "transform = transforms.Compose([transforms.ToTensor(),transforms.Normalize(mean,std)])\n",
        "trainset=dsets.CIFAR10(root='./data',train=True,\n",
        "                       transform=transform,\n",
        "                       download=True)\n",
        "testset=dsets.CIFAR10(root='./data',\n",
        "                      train=False,\n",
        "                     transform=transform)\n",
        "train_batch=torch.utils.data.DataLoader(dataset=trainset,\n",
        "                                       batch_size=batch_size,\n",
        "                                       shuffle=True,\n",
        "                                       num_workers=2)\n",
        "test_batch=torch.utils.data.DataLoader(dataset=testset,\n",
        "                                      batch_size=batch_size,\n",
        "                                      shuffle=False,\n",
        "                                      num_workers=2)\n",
        "classes = ('plane', 'car', 'bird', 'cat','deer', 'dog', 'frog', 'horse', 'ship', 'truck')"
      ],
      "execution_count": 0,
      "outputs": []
    },
    {
      "cell_type": "code",
      "metadata": {
        "id": "-JGqbor26DEc",
        "colab_type": "code",
        "colab": {
          "base_uri": "https://localhost:8080/",
          "height": 303
        },
        "outputId": "b0e74d8b-0c94-449d-9489-69434d3cc613"
      },
      "source": [
        "print(trainset.data.shape) # 50,000 images of 32*32*3 dimensions\n",
        "plt.imshow(trainset.data[129])"
      ],
      "execution_count": 129,
      "outputs": [
        {
          "output_type": "stream",
          "text": [
            "(50000, 32, 32, 3)\n"
          ],
          "name": "stdout"
        },
        {
          "output_type": "execute_result",
          "data": {
            "text/plain": [
              "<matplotlib.image.AxesImage at 0x7f0c9014ec18>"
            ]
          },
          "metadata": {
            "tags": []
          },
          "execution_count": 129
        },
        {
          "output_type": "display_data",
          "data": {
            "image/png": "[encoded data removed]",
            "text/plain": [
              "<Figure size 432x288 with 1 Axes>"
            ]
          },
          "metadata": {
            "tags": []
          }
        }
      ]
    },
    {
      "cell_type": "code",
      "metadata": {
        "id": "FY4F-XWfdL5i",
        "colab_type": "code",
        "colab": {}
      },
      "source": [
        "class net(nn.Module):\n",
        "  def __init__(self):\n",
        "    super(net,self).__init__()\n",
        "#     self.pad1=nn.ZeroPad2d()\n",
        "    self.conv1=nn.Conv2d(3,16,3,stride=1,padding=1)\n",
        "    self.conv2=nn.Conv2d(16,16,3,stride=1,padding=1)\n",
        "    self.pool1=nn.MaxPool2d(2,2)\n",
        "    self.conv3=nn.Conv2d(16,32,3,stride=1,padding=1)\n",
        "    self.conv4=nn.Conv2d(32,32,3,stride=1,padding=1)    \n",
        "    self.pool2=nn.MaxPool2d(2,2)\n",
        "    self.conv5=nn.Conv2d(32,64,3,stride=1,padding=1)    \n",
        "    self.conv6=nn.Conv2d(64,64,3,stride=1,padding=1)\n",
        "    self.pool3=nn.MaxPool2d(2,2)\n",
        "    self.conv7=nn.Conv2d(64,128,3,stride=1,padding=1)    \n",
        "    self.conv8=nn.Conv2d(128,128,3,stride=1,padding=1)\n",
        "    self.conv9=nn.Conv2d(128,256,3,stride=1,padding=1)    \n",
        "    self.pool4=nn.MaxPool2d(2,2)\n",
        "    self.conv10=nn.Conv2d(256,256,3,stride=1,padding=1)\n",
        "    self.conv11=nn.Conv2d(256,256,3,stride=1,padding=1)\n",
        "    self.fc1=nn.Linear(1024,1024)\n",
        "    self.fc2=nn.Linear(1024,1024)\n",
        "    self.fc3=nn.Linear(1024,10)\n",
        "    \n",
        "  \n",
        "  def forward(self,x):\n",
        "    x=F.relu(self.conv1(x))\n",
        "    x=F.relu(self.conv2(x))\n",
        "    x=self.pool1(x)\n",
        "    x=F.relu(self.conv3(x))\n",
        "    x=F.relu(self.conv4(x))\n",
        "    x=self.pool2(x)\n",
        "    x=F.relu(self.conv5(x))\n",
        "    x=F.relu(self.conv6(x))\n",
        "    x=self.pool3(x)\n",
        "    x=F.relu(self.conv7(x))\n",
        "    x=F.relu(self.conv8(x))\n",
        "    x=F.relu(self.conv9(x))\n",
        "    x=self.pool4(x)\n",
        "    x=F.relu(self.conv10(x))\n",
        "    x=F.relu(self.conv11(x))\n",
        "    x=x.view(-1,x.size(1) * x.size(2) * x.size(3))\n",
        "#     print(x.shape)\n",
        "    x=F.relu(self.fc1(x))\n",
        "    x=F.relu(self.fc2(x))\n",
        "    x=self.fc3(x)\n",
        "    return x"
      ],
      "execution_count": 0,
      "outputs": []
    },
    {
      "cell_type": "code",
      "metadata": {
        "id": "-MRGsWr4OOLY",
        "colab_type": "code",
        "colab": {}
      },
      "source": [
        "network=net()\n",
        "if torch.cuda.is_available():\n",
        "  network.cuda()\n",
        "loss_function = nn.CrossEntropyLoss()\n",
        "optimizer = torch.optim.Adam(network.parameters(), lr=0.0001)"
      ],
      "execution_count": 0,
      "outputs": []
    },
    {
      "cell_type": "code",
      "metadata": {
        "id": "aMZGFUJFOnda",
        "colab_type": "code",
        "outputId": "7e9a1aab-5aec-4002-ffcd-d98693e058dd",
        "colab": {
          "base_uri": "https://localhost:8080/",
          "height": 2417
        }
      },
      "source": [
        "for epoch in range(15):\n",
        "  lossTotal=0\n",
        "  for i, (images, labels) in enumerate(train_batch):\n",
        "    images=Variable(images).cuda()\n",
        "    labels=Variable(labels).cuda()\n",
        "    \n",
        "    optimizer.zero_grad()\n",
        "    op=network(images)\n",
        "    loss=loss_function(op,labels)\n",
        "    loss.backward()\n",
        "    lossTotal=lossTotal+loss.item()\n",
        "    optimizer.step()\n",
        "    if i%100 ==0:\n",
        "      print(\"local loss: \",loss.item())\n",
        "  print(\"######## end of EPOCH: \",epoch+1,\" LOSS: \",lossTotal,\" ########\")"
      ],
      "execution_count": 132,
      "outputs": [
        {
          "output_type": "stream",
          "text": [
            "local loss:  2.3036587238311768\n",
            "local loss:  2.303819417953491\n",
            "local loss:  2.190804958343506\n",
            "local loss:  2.133406639099121\n",
            "local loss:  1.951436161994934\n",
            "local loss:  1.944724440574646\n",
            "local loss:  1.8484838008880615\n",
            "local loss:  1.830869197845459\n",
            "######## end of EPOCH:  1  LOSS:  1569.990099787712  ########\n",
            "local loss:  1.8376097679138184\n",
            "local loss:  1.9327958822250366\n"
          ],
          "name": "stdout"
        },
        {
          "output_type": "stream",
          "text": [
            "\n",
            "\n",
            "\n",
            "\n",
            "\n",
            "170500096it [01:03, 3489960.43it/s]                               \u001b[A\u001b[A\u001b[A\u001b[A\u001b[A"
          ],
          "name": "stderr"
        },
        {
          "output_type": "stream",
          "text": [
            "local loss:  1.7542519569396973\n",
            "local loss:  1.7805534601211548\n",
            "local loss:  1.7873506546020508\n",
            "local loss:  1.6381326913833618\n",
            "local loss:  1.637616753578186\n",
            "local loss:  1.617409110069275\n",
            "######## end of EPOCH:  2  LOSS:  1356.8242332935333  ########\n",
            "local loss:  1.5589333772659302\n",
            "local loss:  1.6902620792388916\n",
            "local loss:  1.4535555839538574\n",
            "local loss:  1.6993110179901123\n",
            "local loss:  1.553479552268982\n",
            "local loss:  1.6279791593551636\n",
            "local loss:  1.5442628860473633\n",
            "local loss:  1.3745492696762085\n",
            "######## end of EPOCH:  3  LOSS:  1218.3726279735565  ########\n",
            "local loss:  1.5430309772491455\n",
            "local loss:  1.3097374439239502\n",
            "local loss:  1.3320798873901367\n",
            "local loss:  1.4960345029830933\n",
            "local loss:  1.5137255191802979\n",
            "local loss:  1.5279327630996704\n",
            "local loss:  1.3226995468139648\n",
            "local loss:  1.5338917970657349\n",
            "######## end of EPOCH:  4  LOSS:  1131.1136971712112  ########\n",
            "local loss:  1.4493705034255981\n",
            "local loss:  1.5986027717590332\n",
            "local loss:  1.318633794784546\n",
            "local loss:  1.090962529182434\n",
            "local loss:  1.3383930921554565\n",
            "local loss:  1.1705024242401123\n",
            "local loss:  1.1203926801681519\n",
            "local loss:  1.0646799802780151\n",
            "######## end of EPOCH:  5  LOSS:  1045.7750290632248  ########\n",
            "local loss:  1.2213613986968994\n",
            "local loss:  1.114359974861145\n",
            "local loss:  1.1512205600738525\n",
            "local loss:  1.2860089540481567\n",
            "local loss:  1.3654180765151978\n",
            "local loss:  1.3006271123886108\n",
            "local loss:  1.5885391235351562\n",
            "local loss:  1.4544111490249634\n",
            "######## end of EPOCH:  6  LOSS:  964.3533005714417  ########\n",
            "local loss:  1.0456568002700806\n",
            "local loss:  1.0966646671295166\n",
            "local loss:  1.3368476629257202\n",
            "local loss:  1.105967402458191\n",
            "local loss:  0.9916481375694275\n",
            "local loss:  1.0855895280838013\n",
            "local loss:  1.092529535293579\n",
            "local loss:  1.055294156074524\n",
            "######## end of EPOCH:  7  LOSS:  893.3515481948853  ########\n",
            "local loss:  0.8608875870704651\n",
            "local loss:  1.1023216247558594\n",
            "local loss:  1.1399847269058228\n",
            "local loss:  1.2052515745162964\n",
            "local loss:  1.0076364278793335\n",
            "local loss:  1.2758325338363647\n",
            "local loss:  1.1199606657028198\n",
            "local loss:  0.9834715127944946\n",
            "######## end of EPOCH:  8  LOSS:  836.4470460414886  ########\n",
            "local loss:  0.8815214037895203\n",
            "local loss:  1.042147159576416\n",
            "local loss:  1.1138637065887451\n",
            "local loss:  1.064557671546936\n",
            "local loss:  1.0774388313293457\n",
            "local loss:  1.2065144777297974\n",
            "local loss:  0.9895011186599731\n",
            "local loss:  0.9918106198310852\n",
            "######## end of EPOCH:  9  LOSS:  787.412192940712  ########\n",
            "local loss:  0.9896625876426697\n",
            "local loss:  0.9751664400100708\n",
            "local loss:  1.16197669506073\n",
            "local loss:  1.1681450605392456\n",
            "local loss:  1.0150046348571777\n",
            "local loss:  0.8299317955970764\n",
            "local loss:  0.8834632039070129\n",
            "local loss:  0.9933305978775024\n",
            "######## end of EPOCH:  10  LOSS:  746.8752802610397  ########\n",
            "local loss:  1.0225555896759033\n",
            "local loss:  1.1287418603897095\n",
            "local loss:  0.8160656094551086\n",
            "local loss:  0.7303314208984375\n",
            "local loss:  0.8895748257637024\n",
            "local loss:  0.726587176322937\n",
            "local loss:  0.7484089732170105\n",
            "local loss:  0.8710694909095764\n",
            "######## end of EPOCH:  11  LOSS:  707.2292135953903  ########\n",
            "local loss:  1.1841514110565186\n",
            "local loss:  0.7728116512298584\n",
            "local loss:  0.6369092464447021\n",
            "local loss:  0.7117545008659363\n",
            "local loss:  0.6400381922721863\n",
            "local loss:  0.9053958058357239\n",
            "local loss:  0.7411181330680847\n",
            "local loss:  0.9089003205299377\n",
            "######## end of EPOCH:  12  LOSS:  671.8883946239948  ########\n",
            "local loss:  0.700403094291687\n",
            "local loss:  1.072056531906128\n",
            "local loss:  0.9062860012054443\n",
            "local loss:  0.6489980816841125\n",
            "local loss:  0.8457714319229126\n",
            "local loss:  0.8465370535850525\n",
            "local loss:  0.7079555988311768\n",
            "local loss:  0.7031527757644653\n",
            "######## end of EPOCH:  13  LOSS:  634.9975499808788  ########\n",
            "local loss:  0.6487699747085571\n",
            "local loss:  0.6801199913024902\n",
            "local loss:  0.5917323231697083\n",
            "local loss:  0.5434394478797913\n",
            "local loss:  0.928565502166748\n",
            "local loss:  0.7399016618728638\n",
            "local loss:  0.6002669930458069\n",
            "local loss:  0.8480230569839478\n",
            "######## end of EPOCH:  14  LOSS:  602.9530829489231  ########\n",
            "local loss:  0.8399210572242737\n",
            "local loss:  0.6831821203231812\n",
            "local loss:  0.7602589130401611\n",
            "local loss:  0.658649206161499\n",
            "local loss:  0.444879949092865\n",
            "local loss:  0.7189922332763672\n",
            "local loss:  0.9293676614761353\n",
            "local loss:  0.6741825938224792\n",
            "######## end of EPOCH:  15  LOSS:  574.6589286923409  ########\n"
          ],
          "name": "stdout"
        }
      ]
    },
    {
      "cell_type": "code",
      "metadata": {
        "id": "ClG6iGq6YfOQ",
        "colab_type": "code",
        "colab": {
          "base_uri": "https://localhost:8080/",
          "height": 34
        },
        "outputId": "81511fdb-cdd2-4380-ffd6-2cc29086f2e9"
      },
      "source": [
        "correct=0\n",
        "total=0\n",
        "for images,labels in test_batch:\n",
        "  images=Variable(images).cuda()\n",
        "  labels=Variable(labels).cuda()\n",
        "  \n",
        "  output = network(images)\n",
        "  _, predicted = torch.max(output,1)\n",
        "  correct += (predicted == labels).sum()\n",
        "  total += labels.size(0)\n",
        "print(\"accuracy: \",(100*correct)/(total+1))"
      ],
      "execution_count": 133,
      "outputs": [
        {
          "output_type": "stream",
          "text": [
            "accuracy:  tensor(67, device='cuda:0')\n"
          ],
          "name": "stdout"
        }
      ]
    }
  ]
}