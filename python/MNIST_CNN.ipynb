{
  "nbformat": 4,
  "nbformat_minor": 0,
  "metadata": {
    "colab": {
      "name": "Untitled0.ipynb",
      "version": "0.3.2",
      "provenance": [],
      "collapsed_sections": [],
      "include_colab_link": true
    },
    "kernelspec": {
      "name": "python3",
      "display_name": "Python 3"
    },
    "accelerator": "GPU"
  },
  "cells": [
    {
      "cell_type": "markdown",
      "metadata": {
        "id": "view-in-github",
        "colab_type": "text"
      },
      "source": [
        "<a href=\"https://colab.research.google.com/github/kharyal/machine-learning/blob/master/python/MNIST_CNN.ipynb\" target=\"_parent\"><img src=\"https://colab.research.google.com/assets/colab-badge.svg\" alt=\"Open In Colab\"/></a>"
      ]
    },
    {
      "cell_type": "code",
      "metadata": {
        "id": "HkGJp_pP-aoF",
        "colab_type": "code",
        "colab": {}
      },
      "source": [
        "import torch\n",
        "import torch.nn as nn\n",
        "import torchvision.transforms as transforms\n",
        "import torchvision.datasets as dsets\n",
        "from torch.autograd import Variable\n",
        "import torchvision\n",
        "import torch.nn as nn\n",
        "import torch.nn.functional as F\n",
        "import torch.optim as optim\n",
        "import numpy as np\n",
        "import matplotlib.pyplot as plt\n"
      ],
      "execution_count": 0,
      "outputs": []
    },
    {
      "cell_type": "code",
      "metadata": {
        "id": "y2jYKcXwnSWN",
        "colab_type": "code",
        "colab": {
          "base_uri": "https://localhost:8080/",
          "height": 277
        },
        "outputId": "45efa0eb-9d08-4178-e19d-a83a55ba89a4"
      },
      "source": [
        "batch_size=90\n",
        "train = dsets.MNIST(root = './data', train = True,\n",
        "                        transform = transforms.ToTensor(), download = True)\n",
        "\n",
        "test = dsets.MNIST(root = './data', train = False,\n",
        "                       transform = transforms.ToTensor())\n",
        "train_batch = torch.utils.data.DataLoader(dataset = train,\n",
        "                                             batch_size = batch_size,\n",
        "                                             shuffle = True)\n",
        "\n",
        "test_batch = torch.utils.data.DataLoader(dataset = test,\n",
        "                                      batch_size = batch_size, \n",
        "                                      shuffle = False)\n"
      ],
      "execution_count": 6,
      "outputs": [
        {
          "output_type": "stream",
          "text": [
            "  0%|          | 0/9912422 [00:00<?, ?it/s]"
          ],
          "name": "stderr"
        },
        {
          "output_type": "stream",
          "text": [
            "Downloading http://yann.lecun.com/exdb/mnist/train-images-idx3-ubyte.gz to ./data/MNIST/raw/train-images-idx3-ubyte.gz\n"
          ],
          "name": "stdout"
        },
        {
          "output_type": "stream",
          "text": [
            "9920512it [00:00, 23197401.58it/s]                            \n"
          ],
          "name": "stderr"
        },
        {
          "output_type": "stream",
          "text": [
            "Extracting ./data/MNIST/raw/train-images-idx3-ubyte.gz\n"
          ],
          "name": "stdout"
        },
        {
          "output_type": "stream",
          "text": [
            "32768it [00:00, 422210.95it/s]\n",
            "0it [00:00, ?it/s]"
          ],
          "name": "stderr"
        },
        {
          "output_type": "stream",
          "text": [
            "Downloading http://yann.lecun.com/exdb/mnist/train-labels-idx1-ubyte.gz to ./data/MNIST/raw/train-labels-idx1-ubyte.gz\n",
            "Extracting ./data/MNIST/raw/train-labels-idx1-ubyte.gz\n",
            "Downloading http://yann.lecun.com/exdb/mnist/t10k-images-idx3-ubyte.gz to ./data/MNIST/raw/t10k-images-idx3-ubyte.gz\n"
          ],
          "name": "stdout"
        },
        {
          "output_type": "stream",
          "text": [
            "1654784it [00:00, 5492150.82it/s]                           \n",
            "8192it [00:00, 183333.09it/s]\n"
          ],
          "name": "stderr"
        },
        {
          "output_type": "stream",
          "text": [
            "Extracting ./data/MNIST/raw/t10k-images-idx3-ubyte.gz\n",
            "Downloading http://yann.lecun.com/exdb/mnist/t10k-labels-idx1-ubyte.gz to ./data/MNIST/raw/t10k-labels-idx1-ubyte.gz\n",
            "Extracting ./data/MNIST/raw/t10k-labels-idx1-ubyte.gz\n",
            "Processing...\n",
            "Done!\n"
          ],
          "name": "stdout"
        }
      ]
    },
    {
      "cell_type": "markdown",
      "metadata": {
        "id": "9XNkOcUc-o7N",
        "colab_type": "text"
      },
      "source": [
        "neural network"
      ]
    },
    {
      "cell_type": "code",
      "metadata": {
        "id": "gM4qDHx4GVbw",
        "colab_type": "code",
        "colab": {
          "base_uri": "https://localhost:8080/",
          "height": 34
        },
        "outputId": "e81db3fa-b16c-49ac-e857-12e5b647abca"
      },
      "source": [
        "print(train.data.shape)   #### it is 60000 images with 28 by 28 dimension\n",
        "# print(train.data[0].view(-1,28*28))"
      ],
      "execution_count": 15,
      "outputs": [
        {
          "output_type": "stream",
          "text": [
            "torch.Size([60000, 28, 28])\n"
          ],
          "name": "stdout"
        }
      ]
    },
    {
      "cell_type": "code",
      "metadata": {
        "id": "FoHE1T3McogB",
        "colab_type": "code",
        "colab": {}
      },
      "source": [
        "class net(nn.Module):\n",
        "  def __init__(self):\n",
        "    super(net,self).__init__()\n",
        "    self.conv1=nn.Conv2d(1,32,3)\n",
        "    self.conv2=nn.Conv2d(32,64,3)\n",
        "#     self.pool1=nn.MaxPool2d(2,2)\n",
        "    self.fc1=nn.Linear(36864,1000)\n",
        "    self.fc2=nn.Linear(1000,100)\n",
        "    self.fc3=nn.Linear(100,10)\n",
        "  \n",
        "  def forward(self,x):\n",
        "    x=F.relu(self.conv1(x))\n",
        "    x=F.relu(self.conv2(x))\n",
        "#     x=self.pool1(x)\n",
        "    x=x.view(-1,x.size(1) * x.size(2) * x.size(3))\n",
        "    x=self.fc1(x)\n",
        "    x=self.fc2(x)\n",
        "    x=self.fc3(x)\n",
        "    return x"
      ],
      "execution_count": 0,
      "outputs": []
    },
    {
      "cell_type": "code",
      "metadata": {
        "id": "Es4QKmayLBPC",
        "colab_type": "code",
        "colab": {}
      },
      "source": [
        "network=net()\n",
        "if torch.cuda.is_available():\n",
        "  network.cuda()\n",
        "loss_function = nn.CrossEntropyLoss()\n",
        "optimizer = torch.optim.Adam(network.parameters(), lr=0.0001)"
      ],
      "execution_count": 0,
      "outputs": []
    },
    {
      "cell_type": "code",
      "metadata": {
        "id": "VEdZxzp5MQNH",
        "colab_type": "code",
        "colab": {
          "base_uri": "https://localhost:8080/",
          "height": 2074
        },
        "outputId": "4cfc3c8e-781d-4a71-cd48-b080dee22e71"
      },
      "source": [
        "for epoch in range(15):\n",
        "  lossTotal=0\n",
        "  for i, (images, labels) in enumerate(train_batch):\n",
        "    images=Variable(images).cuda()\n",
        "    labels=Variable(labels).cuda()\n",
        "    \n",
        "    optimizer.zero_grad()\n",
        "    op=network(images)\n",
        "    loss=loss_function(op,labels)\n",
        "    loss.backward()\n",
        "    lossTotal=lossTotal+loss.item()\n",
        "    optimizer.step()\n",
        "    if i%100 ==0:\n",
        "      print(\"local loss: \",loss.item())\n",
        "  print(\"######## end of EPOCH: \",epoch+1,\" LOSS: \",lossTotal,\" ########\")"
      ],
      "execution_count": 96,
      "outputs": [
        {
          "output_type": "stream",
          "text": [
            "local loss:  2.2981302738189697\n",
            "local loss:  0.3304274380207062\n",
            "local loss:  0.24411562085151672\n",
            "local loss:  0.273377388715744\n",
            "local loss:  0.15849734842777252\n",
            "local loss:  0.02946898154914379\n",
            "local loss:  0.15007007122039795\n",
            "######## end of EPOCH:  1  LOSS:  180.63631086423993  ########\n",
            "local loss:  0.03627416864037514\n",
            "local loss:  0.019713614135980606\n",
            "local loss:  0.03589313477277756\n",
            "local loss:  0.10406375676393509\n",
            "local loss:  0.016749700531363487\n",
            "local loss:  0.014924049377441406\n",
            "local loss:  0.11905892938375473\n",
            "######## end of EPOCH:  2  LOSS:  49.78826926834881  ########\n",
            "local loss:  0.06346301734447479\n",
            "local loss:  0.014422337524592876\n",
            "local loss:  0.05055011063814163\n",
            "local loss:  0.06800217926502228\n",
            "local loss:  0.03870650380849838\n",
            "local loss:  0.01603587530553341\n",
            "local loss:  0.00729379104450345\n",
            "######## end of EPOCH:  3  LOSS:  33.63399292132817  ########\n",
            "local loss:  0.12592044472694397\n",
            "local loss:  0.008610174059867859\n",
            "local loss:  0.10284596681594849\n",
            "local loss:  0.012678432278335094\n",
            "local loss:  0.023697206750512123\n",
            "local loss:  0.027922851964831352\n",
            "local loss:  0.015828508883714676\n",
            "######## end of EPOCH:  4  LOSS:  25.39028394513298  ########\n",
            "local loss:  0.028933843597769737\n",
            "local loss:  0.013487587682902813\n",
            "local loss:  0.06086408719420433\n",
            "local loss:  0.0052982596680521965\n",
            "local loss:  0.014688820578157902\n",
            "local loss:  0.14202508330345154\n",
            "local loss:  0.022206809371709824\n",
            "######## end of EPOCH:  5  LOSS:  19.350665758247487  ########\n",
            "local loss:  0.023891374468803406\n",
            "local loss:  0.008703899569809437\n",
            "local loss:  0.01364262867718935\n",
            "local loss:  0.007291820365935564\n",
            "local loss:  0.056266169995069504\n",
            "local loss:  0.019069258123636246\n",
            "local loss:  0.09132945537567139\n",
            "######## end of EPOCH:  6  LOSS:  15.563593936909456  ########\n",
            "local loss:  0.026682358235120773\n",
            "local loss:  0.008921570144593716\n",
            "local loss:  0.0029447025153785944\n",
            "local loss:  0.005270242691040039\n",
            "local loss:  0.021846920251846313\n",
            "local loss:  0.00954259280115366\n",
            "local loss:  0.002733770990744233\n",
            "######## end of EPOCH:  7  LOSS:  11.48746155219851  ########\n",
            "local loss:  0.005418809130787849\n",
            "local loss:  0.0015774091007187963\n",
            "local loss:  0.09275002032518387\n",
            "local loss:  0.016561752185225487\n",
            "local loss:  0.0032202349975705147\n",
            "local loss:  0.0025109397247433662\n",
            "local loss:  0.011622026562690735\n",
            "######## end of EPOCH:  8  LOSS:  9.159191174810985  ########\n",
            "local loss:  0.0014349725097417831\n",
            "local loss:  0.028062831610441208\n",
            "local loss:  0.00032037097844295204\n",
            "local loss:  0.0010529941646382213\n",
            "local loss:  0.001934051513671875\n",
            "local loss:  0.0019279903499409556\n",
            "local loss:  0.004284763243049383\n",
            "######## end of EPOCH:  9  LOSS:  7.1491474226277205  ########\n",
            "local loss:  0.004078080877661705\n",
            "local loss:  0.03041212260723114\n",
            "local loss:  8.529027400072664e-05\n",
            "local loss:  0.014059342443943024\n",
            "local loss:  0.0023813671432435513\n",
            "local loss:  0.00988081842660904\n",
            "local loss:  0.002876143902540207\n",
            "######## end of EPOCH:  10  LOSS:  5.056236843593069  ########\n",
            "local loss:  0.0012607150711119175\n",
            "local loss:  0.0007221539854072034\n",
            "local loss:  0.03023785538971424\n",
            "local loss:  0.02981789968907833\n",
            "local loss:  0.0008380783838219941\n",
            "local loss:  0.00014232000103220344\n",
            "local loss:  0.01081897970288992\n",
            "######## end of EPOCH:  11  LOSS:  4.204485876522085  ########\n",
            "local loss:  0.0006433911039493978\n",
            "local loss:  0.005274221766740084\n",
            "local loss:  0.0010088285198435187\n",
            "local loss:  0.007701778318732977\n",
            "local loss:  0.0016461584018543363\n",
            "local loss:  0.00037471982068382204\n",
            "local loss:  0.0026569366455078125\n",
            "######## end of EPOCH:  12  LOSS:  4.659138520401029  ########\n",
            "local loss:  0.0003602875513024628\n",
            "local loss:  0.0002997928240802139\n",
            "local loss:  0.0010793155524879694\n",
            "local loss:  0.008781952783465385\n",
            "local loss:  7.522371015511453e-05\n",
            "local loss:  0.0006144311628304422\n",
            "local loss:  0.0001226743042934686\n",
            "######## end of EPOCH:  13  LOSS:  2.88537749590796  ########\n",
            "local loss:  0.002113522496074438\n",
            "local loss:  0.02591630071401596\n",
            "local loss:  0.0004600101092364639\n",
            "local loss:  0.0007459216867573559\n",
            "local loss:  0.028899701312184334\n",
            "local loss:  0.00024728773860260844\n",
            "local loss:  0.00017884573026094586\n",
            "######## end of EPOCH:  14  LOSS:  3.1839174728647777  ########\n",
            "local loss:  0.0004737218259833753\n",
            "local loss:  0.0022254521027207375\n",
            "local loss:  0.0009696642518974841\n",
            "local loss:  5.828009670949541e-05\n",
            "local loss:  0.05994062498211861\n",
            "local loss:  0.002011966658756137\n",
            "local loss:  0.0008514721994288266\n",
            "######## end of EPOCH:  15  LOSS:  2.740905761426802  ########\n"
          ],
          "name": "stdout"
        }
      ]
    },
    {
      "cell_type": "code",
      "metadata": {
        "id": "no8GCPxxXY2f",
        "colab_type": "code",
        "colab": {
          "base_uri": "https://localhost:8080/",
          "height": 34
        },
        "outputId": "c9bd64e2-587f-4846-8ee6-799ccb4970a4"
      },
      "source": [
        "correct=0\n",
        "total=0\n",
        "for images,labels in test_batch:\n",
        "  images=Variable(images).cuda()\n",
        "  labels=Variable(labels).cuda()\n",
        "  \n",
        "  output = network(images)\n",
        "  _, predicted = torch.max(output,1)\n",
        "  correct += (predicted == labels).sum()\n",
        "  total += labels.size(0)\n",
        "print(\"accuracy: \",(100*correct)/(total+1))"
      ],
      "execution_count": 102,
      "outputs": [
        {
          "output_type": "stream",
          "text": [
            "accuracy:  tensor(98, device='cuda:0')\n"
          ],
          "name": "stdout"
        }
      ]
    }
  ]
}